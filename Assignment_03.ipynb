{
  "nbformat": 4,
  "nbformat_minor": 0,
  "metadata": {
    "colab": {
      "provenance": [],
      "authorship_tag": "ABX9TyMsDRGtpM94yfe028Pq9T4p",
      "include_colab_link": true
    },
    "kernelspec": {
      "name": "python3",
      "display_name": "Python 3"
    },
    "language_info": {
      "name": "python"
    }
  },
  "cells": [
    {
      "cell_type": "markdown",
      "metadata": {
        "id": "view-in-github",
        "colab_type": "text"
      },
      "source": [
        "<a href=\"https://colab.research.google.com/github/Sourabh1695/Python_Basics/blob/main/Assignment_03.ipynb\" target=\"_parent\"><img src=\"https://colab.research.google.com/assets/colab-badge.svg\" alt=\"Open In Colab\"/></a>"
      ]
    },
    {
      "cell_type": "markdown",
      "source": [
        "# 1. Why are functions advantageous to have in your programs?\n",
        "\n",
        "##### Functions reduce the need for duplicate code. This makes programs shorter, easier to read, and easier to update.\n",
        "\n"
      ],
      "metadata": {
        "id": "QqiNjHZhark8"
      }
    },
    {
      "cell_type": "markdown",
      "source": [
        "# 2. When does the code in a function run: when it's specified or when it's called?\n",
        "\n",
        "##### The code in a function executes when the function is called, not when the function is defined."
      ],
      "metadata": {
        "id": "Sq8YpWZpa6z4"
      }
    },
    {
      "cell_type": "markdown",
      "source": [
        "# 3. What statement creates a function?\n",
        "\n",
        "##### In Python, you define a function with the def keyword, then write the function identifier (name) followed by parentheses and a colon. The next thing you have to do is make sure you indent with a tab or 4 spaces, and then specify what you want the function to do for you."
      ],
      "metadata": {
        "id": "PbMCtrP6bQjM"
      }
    },
    {
      "cell_type": "markdown",
      "source": [
        "# 4. What is the difference between a function and a function call?\n",
        "\n",
        "##### A function is a piece of code which enhanced the reusability and modularity of your program. It means that piece of code need not be written again.\n",
        "##### A function call means calling that function. Unless a function is called there is no use of that function."
      ],
      "metadata": {
        "id": "K4u8NXbCbk0R"
      }
    },
    {
      "cell_type": "markdown",
      "source": [
        "# 5. How many global scopes are there in a Python program? How many local scopes?\n",
        "\n",
        "##### There is one global scope(outside the function), and a local scope(inside the function) is created whenever a function is called."
      ],
      "metadata": {
        "id": "UBvKCcnsb9mY"
      }
    },
    {
      "cell_type": "markdown",
      "source": [
        "# 6. What happens to variables in a local scope when the function call returns?\n",
        "\n",
        "##### Each call of the function creates new local variables, and their lifetimes expire when the function returns to the caller."
      ],
      "metadata": {
        "id": "nXSeE3FVcasK"
      }
    },
    {
      "cell_type": "markdown",
      "source": [
        "# 7. What is the concept of a return value? Is it possible to have a return value in an expression?\n",
        "\n",
        "##### A return value is the value that a function call evaluates to. Like any value, a return value can be used as part of an expression.\n",
        "\n"
      ],
      "metadata": {
        "id": "kYggVeXTcymH"
      }
    },
    {
      "cell_type": "markdown",
      "source": [
        "# 8. If a function does not have a return statement, what is the return value of a call to that function?\n",
        "\n",
        "##### If there is no return statement for a function, its return value is None."
      ],
      "metadata": {
        "id": "CBan4I-Kdxbv"
      }
    },
    {
      "cell_type": "markdown",
      "source": [
        "# 9. How do you make a function variable refer to the global variable?\n",
        "\n",
        "##### Normally, when you create a variable inside a function, that variable is local, and can only be used inside that function. To create a global variable inside a function, you can use the global keyword."
      ],
      "metadata": {
        "id": "Bg9ECPbcd6uR"
      }
    },
    {
      "cell_type": "markdown",
      "source": [
        "# 10. What is the data type of None?\n",
        "\n",
        "##### The data type of None is NoneType."
      ],
      "metadata": {
        "id": "HVNpvKiSeTmb"
      }
    },
    {
      "cell_type": "markdown",
      "source": [
        "# 11. What does the sentence import areallyourpetsnamederic do?\n",
        "\n",
        "##### That import statement imports a module named areallyourpetsnamederic."
      ],
      "metadata": {
        "id": "YOMnOiB3efQ0"
      }
    },
    {
      "cell_type": "markdown",
      "source": [
        "# 12. If you had a bacon() feature in a spam module, what would you call it after importing spam?\n",
        "\n",
        "##### This function can be called with spam.bacon()."
      ],
      "metadata": {
        "id": "hSwqgxCler9I"
      }
    },
    {
      "cell_type": "markdown",
      "source": [
        "# 13. What can you do to save a programme from crashing if it encounters an error?\n",
        "\n",
        "##### Prevents program from crashing if an error occurs. If an error occurs in a program, we don't want the program to unexpectedly crash on the user. Instead, error handling can be used to notify the user of why the error occurred and gracefully exit the process that caused the error."
      ],
      "metadata": {
        "id": "DFPJy50te2sE"
      }
    },
    {
      "cell_type": "markdown",
      "source": [
        "# 14. What is the purpose of the try clause? What is the purpose of the except clause?\n",
        "\n",
        "##### -The code that could potentially cause an error goes in the try clause.\n",
        "##### -The code that executes if an error happens goes in the except clause."
      ],
      "metadata": {
        "id": "6SEOgFvLfPeb"
      }
    }
  ]
}