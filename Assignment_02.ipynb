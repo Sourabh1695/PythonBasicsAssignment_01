{
  "nbformat": 4,
  "nbformat_minor": 0,
  "metadata": {
    "colab": {
      "provenance": [],
      "authorship_tag": "ABX9TyNSL34hfzg6L39QJrg16P83",
      "include_colab_link": true
    },
    "kernelspec": {
      "name": "python3",
      "display_name": "Python 3"
    },
    "language_info": {
      "name": "python"
    }
  },
  "cells": [
    {
      "cell_type": "markdown",
      "metadata": {
        "id": "view-in-github",
        "colab_type": "text"
      },
      "source": [
        "<a href=\"https://colab.research.google.com/github/Sourabh1695/Python_Basics/blob/main/Assignment_02.ipynb\" target=\"_parent\"><img src=\"https://colab.research.google.com/assets/colab-badge.svg\" alt=\"Open In Colab\"/></a>"
      ]
    },
    {
      "cell_type": "markdown",
      "source": [
        "# 1.What are the two values of the Boolean data type? How do you write them?\n",
        "\n",
        "##### The two values of the Boolean data types are: True or False. To declare a Boolean variable, we use the keyword bool."
      ],
      "metadata": {
        "id": "YBw6AUkdsoBg"
      }
    },
    {
      "cell_type": "code",
      "source": [
        "a = True\n",
        "b = False\n",
        "\n",
        "print(type(a))\n",
        "print(type(b))"
      ],
      "metadata": {
        "colab": {
          "base_uri": "https://localhost:8080/"
        },
        "id": "uarhzwQ4uJw1",
        "outputId": "124095e2-e5d1-4b1d-bc48-45ea4a8a3126"
      },
      "execution_count": 1,
      "outputs": [
        {
          "output_type": "stream",
          "name": "stdout",
          "text": [
            "<class 'bool'>\n",
            "<class 'bool'>\n"
          ]
        }
      ]
    },
    {
      "cell_type": "markdown",
      "source": [
        "# 2. What are the three different types of Boolean operators?\n",
        "\n",
        "##### The three different types of boolean operators are: AND, OR, and NOT."
      ],
      "metadata": {
        "id": "u9Q-e-XHsoD-"
      }
    },
    {
      "cell_type": "markdown",
      "source": [
        "# 3. Make a list of each Boolean operator's truth tables (i.e. every possible combination of Boolean values for the operator and what it evaluate ).\n",
        "##### AND\n",
        "####  a   |   b   | OUTPUT\n",
        "\n",
        "True  | True  | True\n",
        "\n",
        "True  | False | False\n",
        "\n",
        "False | True  | False\n",
        "\n",
        "False | False | False\n",
        "\n",
        "##### OR\n",
        "True  | True  | True\n",
        "\n",
        "True  | False | True\n",
        "\n",
        "False | True  | True\n",
        "\n",
        "False | False | False\n",
        "\n",
        "##### NOT\n",
        "not True is False\n",
        "\n",
        "not False is True\n",
        "\n",
        "### True is 1 and False is 0\n",
        "##### Truth table for AND\n",
        "  a   |   b   | OUTPUT\n",
        "\n",
        "0 0 0\n",
        "\n",
        "0 1 0\n",
        "\n",
        "1 0 0\n",
        "\n",
        "1 1 1\n",
        "\n",
        "##### Truth table for OR\n",
        "  a   |   b   | OUTPUT\n",
        "\n",
        "1 1 1\n",
        "\n",
        "1 0 1\n",
        "\n",
        "0 1 1\n",
        "\n",
        "0 0 0\n"
      ],
      "metadata": {
        "id": "0g6UkSXfsoGc"
      }
    },
    {
      "cell_type": "markdown",
      "source": [
        "# 4. What are the values of the following expressions?"
      ],
      "metadata": {
        "id": "w3LQsXI3soJ1"
      }
    },
    {
      "cell_type": "code",
      "source": [
        "print((5>4) and (3==5))\n",
        "print(not(5>4))\n",
        "print((5>4) or (3==5))\n",
        "print(not(5>4) or (3==5))\n",
        "print((True and True) and (True==False))\n",
        "print((not(False))or(not(True)))"
      ],
      "metadata": {
        "colab": {
          "base_uri": "https://localhost:8080/"
        },
        "id": "p0l9PoQlxdX5",
        "outputId": "eeed6c3d-6dbd-40bf-928a-d023d903ab68"
      },
      "execution_count": 2,
      "outputs": [
        {
          "output_type": "stream",
          "name": "stdout",
          "text": [
            "False\n",
            "False\n",
            "True\n",
            "False\n",
            "False\n",
            "True\n"
          ]
        }
      ]
    },
    {
      "cell_type": "markdown",
      "source": [
        "# 5. What are the six comparison operators?\n",
        "\n",
        "##### 1. ==\n",
        "##### 2. !=\n",
        "##### 3. <\n",
        "##### 4. >\n",
        "##### 5. <=\n",
        "##### 6. >=\n",
        " "
      ],
      "metadata": {
        "id": "BtRwpYQQxsTQ"
      }
    },
    {
      "cell_type": "markdown",
      "source": [
        "# 6. How do you tell the difference between the equal to and assignment operators?Describe a condition and when you would use one.\n",
        "\n",
        "##### == is the equal to operator that compares two values and evaluates to a Boolean.\n",
        "##### = is the assignment operator that stores a value in a variable."
      ],
      "metadata": {
        "id": "shdu1YNbyBuw"
      }
    },
    {
      "cell_type": "code",
      "source": [
        "# eg:\n",
        "# Equal to Operator\n",
        "\n",
        "if 2 == 3:\n",
        "  print(\"True\")\n",
        "\n",
        "else:\n",
        "  print(\"False\")\n",
        "\n",
        "# Assignment Operator\n",
        "\n",
        "c = 2\n",
        "c"
      ],
      "metadata": {
        "colab": {
          "base_uri": "https://localhost:8080/"
        },
        "id": "jIFW53EnzJce",
        "outputId": "4fb2323a-720c-41a4-e31f-a95819ddd841"
      },
      "execution_count": 3,
      "outputs": [
        {
          "output_type": "stream",
          "name": "stdout",
          "text": [
            "False\n"
          ]
        },
        {
          "output_type": "execute_result",
          "data": {
            "text/plain": [
              "2"
            ]
          },
          "metadata": {},
          "execution_count": 3
        }
      ]
    },
    {
      "cell_type": "markdown",
      "source": [
        "# 7. Identify the three blocks in this code:"
      ],
      "metadata": {
        "id": "MrJ2H5WOyULL"
      }
    },
    {
      "cell_type": "code",
      "source": [
        "spam = 0\n",
        "if spam == 10:\n",
        "    print('eggs')\n",
        "elif spam > 5:\n",
        "    print('bacon')\n",
        "else:\n",
        "    print('ham')\n",
        "    print('spam')\n",
        "    print('spam')\n",
        "\n",
        "# As given variable spam is equal to 0, Output will come under else"
      ],
      "metadata": {
        "colab": {
          "base_uri": "https://localhost:8080/"
        },
        "id": "b-eQZEI9zldh",
        "outputId": "304d77a8-abc8-4551-d4df-f119d4e8f959"
      },
      "execution_count": 4,
      "outputs": [
        {
          "output_type": "stream",
          "name": "stdout",
          "text": [
            "ham\n",
            "spam\n",
            "spam\n"
          ]
        }
      ]
    },
    {
      "cell_type": "markdown",
      "source": [
        "# 8. Write code that prints Hello if 1 is stored in spam, prints Howdy if 2 is stored in spam, and prints Greetings! if anything else is stored in spam."
      ],
      "metadata": {
        "id": "NqMCX-W60DP1"
      }
    },
    {
      "cell_type": "code",
      "source": [
        "if spam == 1:\n",
        "  print(\"Hello\")\n",
        "\n",
        "elif spam == 2:\n",
        "  print(\"Howdy\")\n",
        "\n",
        "else:\n",
        "  print(\"Greetings!\")"
      ],
      "metadata": {
        "colab": {
          "base_uri": "https://localhost:8080/"
        },
        "id": "sV-7WKSltgLg",
        "outputId": "376f0ae0-d953-477d-bf5d-6bdb5993fef6"
      },
      "execution_count": 5,
      "outputs": [
        {
          "output_type": "stream",
          "name": "stdout",
          "text": [
            "Greetings!\n"
          ]
        }
      ]
    },
    {
      "cell_type": "markdown",
      "source": [
        "# 9.If your programme is stuck in an endless loop, what keys you’ll press?\n",
        "\n",
        "##### If program is stuck in endless loop we will press ctrl+c."
      ],
      "metadata": {
        "id": "azdZIKv21OJo"
      }
    },
    {
      "cell_type": "markdown",
      "source": [
        "# 10. How can you tell the difference between break and continue?\n",
        "\n",
        "##### Break: A break statement in Python alters the flow of a loop by terminating it once a specified condition is met.\n",
        "##### Continue: The continue statement in Python is used to skip the remaining code inside a loop for the current iteration only."
      ],
      "metadata": {
        "id": "GqxU9r4L1X5f"
      }
    },
    {
      "cell_type": "code",
      "source": [
        "# eg.\n",
        "print(\"----\")\n",
        "print(\"use of break\")\n",
        "print(\"----\")\n",
        "for i in range(10):\n",
        "    if(i==7):\n",
        "        break\n",
        "    print(i)\n",
        "    \n",
        "print(\"----\")\n",
        "print(\"use of continue\")\n",
        "print(\"----\")\n",
        "\n",
        "for i in range(10):\n",
        "    if(i==7):\n",
        "        continue\n",
        "    print(i)"
      ],
      "metadata": {
        "colab": {
          "base_uri": "https://localhost:8080/"
        },
        "id": "XSykJkFZ30FW",
        "outputId": "ea47054a-5745-4e0b-d2e9-c9ae13a057e7"
      },
      "execution_count": 9,
      "outputs": [
        {
          "output_type": "stream",
          "name": "stdout",
          "text": [
            "----\n",
            "use of break\n",
            "----\n",
            "0\n",
            "1\n",
            "2\n",
            "3\n",
            "4\n",
            "5\n",
            "6\n",
            "----\n",
            "use of continue\n",
            "----\n",
            "0\n",
            "1\n",
            "2\n",
            "3\n",
            "4\n",
            "5\n",
            "6\n",
            "8\n",
            "9\n"
          ]
        }
      ]
    },
    {
      "cell_type": "markdown",
      "source": [
        "# 11. In a for loop, what is the difference between range(10), range(0, 10), and range(0, 10, 1)?\n",
        "\n",
        "##### The range(10) call ranges from 0 upto 10 (but not including 10), range(0, 10) tells the loop to start at 0 and will end at 9 same as range(10), and range(0, 10, 1) tells the loop to increase the variable by 1 on each iteration."
      ],
      "metadata": {
        "id": "dwwQMyo11YDy"
      }
    },
    {
      "cell_type": "code",
      "source": [
        "for i in range(10):\n",
        "  print(i)\n",
        "print(\"---------\")\n",
        "for i in range(0,10): # range(start, end)\n",
        "  print(i)\n",
        "print(\"---------\")\n",
        "for i in range(0,10,1):  # range(start, end, steps)\n",
        "  print(i)"
      ],
      "metadata": {
        "colab": {
          "base_uri": "https://localhost:8080/"
        },
        "id": "iz-Qy2Q85yyb",
        "outputId": "6185d8a4-1282-46eb-a6ea-60b7941a5943"
      },
      "execution_count": 10,
      "outputs": [
        {
          "output_type": "stream",
          "name": "stdout",
          "text": [
            "0\n",
            "1\n",
            "2\n",
            "3\n",
            "4\n",
            "5\n",
            "6\n",
            "7\n",
            "8\n",
            "9\n",
            "---------\n",
            "0\n",
            "1\n",
            "2\n",
            "3\n",
            "4\n",
            "5\n",
            "6\n",
            "7\n",
            "8\n",
            "9\n",
            "---------\n",
            "0\n",
            "1\n",
            "2\n",
            "3\n",
            "4\n",
            "5\n",
            "6\n",
            "7\n",
            "8\n",
            "9\n"
          ]
        }
      ]
    },
    {
      "cell_type": "markdown",
      "source": [
        "# 12. Write a short program that prints the numbers 1 to 10 using a for loop. Then write an equivalent program that prints the numbers 1 to 10 using a while loop."
      ],
      "metadata": {
        "id": "ZNYGyq9b7F4U"
      }
    },
    {
      "cell_type": "code",
      "source": [
        "print(\"----\")\n",
        "print(\"Using FOR LOOP\")\n",
        "print(\"----\")\n",
        "for i in range(1,11):\n",
        "  print(i)\n",
        "\n",
        "print(\"----\")\n",
        "print(\"Using WHILE LOOP\")\n",
        "print(\"----\")\n",
        "a = 1\n",
        "while a < 11:\n",
        "  print(a)\n",
        "  a = a + 1\n"
      ],
      "metadata": {
        "colab": {
          "base_uri": "https://localhost:8080/"
        },
        "id": "BrB6E-kq8U7j",
        "outputId": "2a240421-c4c9-4821-afda-c8c8b02d9e65"
      },
      "execution_count": 11,
      "outputs": [
        {
          "output_type": "stream",
          "name": "stdout",
          "text": [
            "----\n",
            "Using FOR LOOP\n",
            "----\n",
            "1\n",
            "2\n",
            "3\n",
            "4\n",
            "5\n",
            "6\n",
            "7\n",
            "8\n",
            "9\n",
            "10\n",
            "----\n",
            "Using WHILE LOOP\n",
            "----\n",
            "1\n",
            "2\n",
            "3\n",
            "4\n",
            "5\n",
            "6\n",
            "7\n",
            "8\n",
            "9\n",
            "10\n"
          ]
        }
      ]
    },
    {
      "cell_type": "markdown",
      "source": [
        "# 13. If you had a function named bacon() inside a module named spam, how would you call it after importing spam?\n",
        "\n",
        "##### This function can be called with spam.bacon()."
      ],
      "metadata": {
        "id": "1ruY3uhp8vN8"
      }
    },
    {
      "cell_type": "markdown",
      "source": [],
      "metadata": {
        "id": "_7tqUqje84xl"
      }
    }
  ]
}