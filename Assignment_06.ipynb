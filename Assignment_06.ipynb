{
  "nbformat": 4,
  "nbformat_minor": 0,
  "metadata": {
    "colab": {
      "provenance": [],
      "authorship_tag": "ABX9TyOf2YFPRZXf6jq1MvzTYzyS",
      "include_colab_link": true
    },
    "kernelspec": {
      "name": "python3",
      "display_name": "Python 3"
    },
    "language_info": {
      "name": "python"
    }
  },
  "cells": [
    {
      "cell_type": "markdown",
      "metadata": {
        "id": "view-in-github",
        "colab_type": "text"
      },
      "source": [
        "<a href=\"https://colab.research.google.com/github/Sourabh1695/Python_Basics/blob/main/Assignment_06.ipynb\" target=\"_parent\"><img src=\"https://colab.research.google.com/assets/colab-badge.svg\" alt=\"Open In Colab\"/></a>"
      ]
    },
    {
      "cell_type": "markdown",
      "source": [
        "### 1. What are escape characters, and how do you use them?\n",
        "\n",
        "##### **Ans:** To insert characters that are illegal in a string, use an escape character. An escape character is a backslash \\ followed by the character you want to insert.\n",
        "#####  It is used in representing certain whitespace characters: \"\\t\" is a tab, \"\\n\" is a newline, and \"\\r\" is a carriage return.\n",
        "\n"
      ],
      "metadata": {
        "id": "6WwBeXA--CWM"
      }
    },
    {
      "cell_type": "markdown",
      "source": [
        "### 2. What do the escape characters n and t stand for?\n",
        "\n",
        "##### **Ans:** \"\\t\" is a tab\n",
        "##### \"\\n\" is a newline"
      ],
      "metadata": {
        "id": "7thcZx1s-84R"
      }
    },
    {
      "cell_type": "markdown",
      "source": [
        "### 3. What is the way to include backslash characters in a string?\n",
        "\n",
        "##### **Ans:** The backslash ( \"\\\" ) character is a special escape character used to indicate other special characters such as new lines ( \\n ), tabs ( \\t ), or quotation marks ( \\\" ). If you want to include a backslash character itself, you need two backslashes"
      ],
      "metadata": {
        "id": "3jS69VWh-5uP"
      }
    },
    {
      "cell_type": "code",
      "source": [
        "print('its a back slash \\\\ in a line')"
      ],
      "metadata": {
        "colab": {
          "base_uri": "https://localhost:8080/"
        },
        "id": "GoKQQq9cAWwm",
        "outputId": "2f8a80af-31e0-416a-93f7-ee5761a09f16"
      },
      "execution_count": 1,
      "outputs": [
        {
          "output_type": "stream",
          "name": "stdout",
          "text": [
            "its a back slash \\ in a line\n"
          ]
        }
      ]
    },
    {
      "cell_type": "markdown",
      "source": [
        "### 4. The string \"Howl's Moving Castle\" is a correct value. Why isn't the single quote character in the word Howl's not escaped a problem?\n",
        "\n",
        "##### **Ans:** The single quote in Howl's is fine because you've used double quotes to mark the beginning and end of the string. Likewise we can use double quotes in with single quotes"
      ],
      "metadata": {
        "id": "4yWcFHh3Bc7T"
      }
    },
    {
      "cell_type": "code",
      "source": [
        "print(\"HowI's Moving Castle\")"
      ],
      "metadata": {
        "colab": {
          "base_uri": "https://localhost:8080/"
        },
        "id": "47q2nxruBvu3",
        "outputId": "9a77a6c2-50a4-4e96-de93-4f8fc6ca73ab"
      },
      "execution_count": 2,
      "outputs": [
        {
          "output_type": "stream",
          "name": "stdout",
          "text": [
            "HowI's Moving Castle\n"
          ]
        }
      ]
    },
    {
      "cell_type": "markdown",
      "source": [
        "### 5. How do you write a string of newlines if you don't want to use the n character?\n",
        "\n",
        "##### **Ans:** Multiline string allow you to use newlines in string without the \\n escape character"
      ],
      "metadata": {
        "id": "AC72CCvKB24O"
      }
    },
    {
      "cell_type": "code",
      "source": [
        "a = '''iNeuron full stack\n",
        "Data Science Course'''\n",
        "print(a)"
      ],
      "metadata": {
        "colab": {
          "base_uri": "https://localhost:8080/"
        },
        "id": "HzxsDq-QCyzc",
        "outputId": "77c86bb6-9940-4ea9-cd3a-44c4f45fdcd6"
      },
      "execution_count": 3,
      "outputs": [
        {
          "output_type": "stream",
          "name": "stdout",
          "text": [
            "iNeuron full stack\n",
            "Data Science Course\n"
          ]
        }
      ]
    },
    {
      "cell_type": "markdown",
      "source": [
        "### 6. What are the values of the given expressions ?\n",
        "\n",
        "##### 'Hello, world!'[1]\n",
        "##### 'Hello, world!'[0:5]\n",
        "##### 'Hello, world!'[:5]\n",
        "##### 'Hello, world!'[3:] \n",
        "\n",
        "##### **Ans:** The values for the given expressions are:\n",
        "#####'Hello, world!'[1] -> 'e'\n",
        "##### 'Hello, world!'[0:5] -> 'Hello'\n",
        "##### 'Hello, world!'[:5] -> 'Hello'\n",
        "#####'Hello, world!'[3:] -> 'lo, world!'"
      ],
      "metadata": {
        "id": "utLJL56GC41l"
      }
    },
    {
      "cell_type": "markdown",
      "source": [
        "### 7.What are the values of the following expressions ?\n",
        "\n",
        "##### 'Hello'.upper()\n",
        "##### 'Hello'.upper().isupper()\n",
        "##### 'Hello'.upper().lower()"
      ],
      "metadata": {
        "id": "RXli-kl_Dhqf"
      }
    },
    {
      "cell_type": "code",
      "source": [
        "#### The values for the given expressions are:\n",
        "\n",
        "print('Hello'.upper())  #HELLO\n",
        "print('Hello'.upper().isupper())  #True\n",
        "print('Hello'.upper().lower()) #'hello'"
      ],
      "metadata": {
        "colab": {
          "base_uri": "https://localhost:8080/"
        },
        "id": "7q-e0gudEXYL",
        "outputId": "f5b6ccfb-5c72-467e-b85b-7b25293aca23"
      },
      "execution_count": 4,
      "outputs": [
        {
          "output_type": "stream",
          "name": "stdout",
          "text": [
            "HELLO\n",
            "True\n",
            "hello\n"
          ]
        }
      ]
    },
    {
      "cell_type": "markdown",
      "source": [
        "### 8.What are the values of the following expressions ?\n",
        "##### 'Remember, remember, the fifith of July.'.split()\n",
        "##### -'.join('There can only one'.split())"
      ],
      "metadata": {
        "id": "jbkYoqY6FEfx"
      }
    },
    {
      "cell_type": "code",
      "source": [
        "print('Remember, remember, the fifith of July.'.split())\n",
        "print('-'.join('There can only one'.split()))"
      ],
      "metadata": {
        "colab": {
          "base_uri": "https://localhost:8080/"
        },
        "id": "84MUUqmhFRQy",
        "outputId": "ffd903d7-4e22-4737-e588-180c42d2b6c0"
      },
      "execution_count": 6,
      "outputs": [
        {
          "output_type": "stream",
          "name": "stdout",
          "text": [
            "['Remember,', 'remember,', 'the', 'fifith', 'of', 'July.']\n",
            "There-can-only-one\n"
          ]
        }
      ]
    },
    {
      "cell_type": "markdown",
      "source": [
        "### 9.What are the methods for right-justifying, left-justifying and centering a string ?\n",
        "##### **Ans:** The rjust(),ljust(),center() string methods, respectively."
      ],
      "metadata": {
        "id": "T_48QtX3FoWF"
      }
    },
    {
      "cell_type": "markdown",
      "source": [
        "### 10.What is the best way to remove whitespace characters from the start or end ?\n",
        "##### **Ans:** The lstrip() and rstrip() methods remove whitesapce characters from the left and right ends of a string respectively\n"
      ],
      "metadata": {
        "id": "Kh3gfUReFoPv"
      }
    },
    {
      "cell_type": "markdown",
      "source": [],
      "metadata": {
        "id": "15Ro8KRlGfzp"
      }
    }
  ]
}