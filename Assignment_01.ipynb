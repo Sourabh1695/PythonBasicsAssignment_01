{
  "nbformat": 4,
  "nbformat_minor": 0,
  "metadata": {
    "colab": {
      "provenance": [],
      "authorship_tag": "ABX9TyPK4oTvx0nMrc5Nt5FTDei+",
      "include_colab_link": true
    },
    "kernelspec": {
      "name": "python3",
      "display_name": "Python 3"
    },
    "language_info": {
      "name": "python"
    }
  },
  "cells": [
    {
      "cell_type": "markdown",
      "metadata": {
        "id": "view-in-github",
        "colab_type": "text"
      },
      "source": [
        "<a href=\"https://colab.research.google.com/github/Sourabh1695/Python_Basics/blob/main/Assignment_01.ipynb\" target=\"_parent\"><img src=\"https://colab.research.google.com/assets/colab-badge.svg\" alt=\"Open In Colab\"/></a>"
      ]
    },
    {
      "cell_type": "markdown",
      "source": [
        "#1. In the below elements which of them are values or an expression? eg:- values can be integer or string and expressions will be mathematical operators.\n"
      ],
      "metadata": {
        "id": "cyzTfG8o8OJG"
      }
    },
    {
      "cell_type": "markdown",
      "source": [
        "##### *       - Mathematical Operator\n",
        "##### 'hello' - String Value\n",
        "##### -87.8   - Integer Value\n",
        "##### -       - Mathematical Operator\n",
        "##### /       - Mathematical Operator\n",
        "##### +       - Mathematical Operator"
      ],
      "metadata": {
        "id": "4jWuW5Du8oMv"
      }
    },
    {
      "cell_type": "markdown",
      "source": [
        "# 2. What is the difference between string and variable?\n",
        "##### String - a String is a type of information you would store in a Variable. A String is usually words, enclosed with \" \", \n",
        "##### for example \"a\".\n",
        "\n",
        "##### Variables -A Variable is a store of information. let say, a is variable, we can store any datatype in the given variable even we can make a list, tuple , set or dictnary.\n",
        "##### for example a = 1 , 1 is int\n",
        "##### for example a = 'Sourabh' , 'Sourabh' is String\n",
        "##### for example a = True , True is Bool\n",
        "##### for example a = 0.1 , 0.1 is float\n",
        "##### for example a = [1,2,'a', True] , its a list"
      ],
      "metadata": {
        "id": "ZfFckEek9pd6"
      }
    },
    {
      "cell_type": "markdown",
      "source": [
        "# 3. Describe three different data types.\n",
        "\n",
        "##### String - Sequence of characters, digits, or symbols—always treated as text and is enclosed in ' '\n",
        "##### Boolean (bool) - True or false values\n",
        "##### Enumerated type - Small set of predefined unique values that can be text-based or numerical i.e. Integers, Floating numbers, Complex numbers\n"
      ],
      "metadata": {
        "id": "Uwo1N8WqApql"
      }
    },
    {
      "cell_type": "markdown",
      "source": [
        "# 4. What is an expression made up of? What do all expressions do?\n",
        "\n",
        "##### An expression is a combination of values, variables, operators, and calls to functions. Expressions need to be evaluated. If you ask Python to print an expression, the interpreter evaluates the expression and displays the result. Expressions are the mathematical operators."
      ],
      "metadata": {
        "id": "KJm59XMvCww3"
      }
    },
    {
      "cell_type": "markdown",
      "source": [
        "# 5. This assignment statements, like spam = 10. What is the difference between an expression and a statement?\n",
        "\n",
        "##### An expression evaluates to a single value. A statement does not."
      ],
      "metadata": {
        "id": "M4IJxaerD7rz"
      }
    },
    {
      "cell_type": "markdown",
      "source": [
        "# 6. After running the following code, what does the variable bacon contain?\n",
        "# bacon = 22\n",
        "# bacon + 1\n",
        "\n",
        "##### The bacon variable is set to 20. The bacon + 1 expression does not reassign the value in bacon (that would need an assignment statement: bacon = bacon + 1)"
      ],
      "metadata": {
        "id": "iZ0ai6q0Drac"
      }
    },
    {
      "cell_type": "markdown",
      "source": [
        "# 7. What should the values of the following two terms be?\n",
        "# 'spam' +'spamspam';\n",
        "# 'spam'* 3\n",
        "\n",
        "##### The output of the above code will be same i.e. spamspamspam"
      ],
      "metadata": {
        "id": "16D7DrDEERO_"
      }
    },
    {
      "cell_type": "markdown",
      "source": [
        "# 8. Why is eggs a valid variable name while 100 is invalid?\n",
        "\n",
        "##### Varible name should not begin with the number, it is alway recommendable to start a variable name with a small letter of alpha."
      ],
      "metadata": {
        "id": "4-wKDnIrERSO"
      }
    },
    {
      "cell_type": "markdown",
      "source": [
        "# 9. What three functions can be used to get the integer, floating-point number, or string version of a value?\n",
        "\n",
        "##### The int() , float() , and str( ) functions can be used to get the integer, floating-point number, and string versions of the value."
      ],
      "metadata": {
        "id": "vDm_ZaAmERVk"
      }
    },
    {
      "cell_type": "markdown",
      "source": [
        "# 10. Why does this expression cause an error? How can you fix it?\n",
        "# 'I have eaten' + 99 + 'burritos'\n",
        "\n",
        "##### As 99 is an integer. In concatenation either the whole value should be in integers or the whole value should in string.\n",
        "\n",
        "##### This can be fixed by converting int 99 to str 99.\n",
        "##### 'I have eaten' + 99 + 'burritos'\n",
        "##### 'I have eaten' + str(99) + ' burritos'"
      ],
      "metadata": {
        "id": "p3YdrG2iS4yn"
      }
    },
    {
      "cell_type": "markdown",
      "source": [],
      "metadata": {
        "id": "O4GUfJUVS5Q7"
      }
    }
  ]
}