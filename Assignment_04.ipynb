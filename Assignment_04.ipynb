{
  "nbformat": 4,
  "nbformat_minor": 0,
  "metadata": {
    "colab": {
      "provenance": [],
      "authorship_tag": "ABX9TyNLzuPAYicbwCmlMn+ziIBD",
      "include_colab_link": true
    },
    "kernelspec": {
      "name": "python3",
      "display_name": "Python 3"
    },
    "language_info": {
      "name": "python"
    }
  },
  "cells": [
    {
      "cell_type": "markdown",
      "metadata": {
        "id": "view-in-github",
        "colab_type": "text"
      },
      "source": [
        "<a href=\"https://colab.research.google.com/github/Sourabh1695/Python_Basics/blob/main/Assignment_04.ipynb\" target=\"_parent\"><img src=\"https://colab.research.google.com/assets/colab-badge.svg\" alt=\"Open In Colab\"/></a>"
      ]
    },
    {
      "cell_type": "markdown",
      "source": [
        "### 1. What exactly is [ ]?\n",
        "\n",
        "##### The empty list value, which is a list value that contains no items. "
      ],
      "metadata": {
        "id": "o-Uy90lT2ou7"
      }
    },
    {
      "cell_type": "markdown",
      "source": [
        "### 2. In a list of values stored in a variable called spam, how would you assign the value hello' as the third value? (Assume [2, 4, 6, 8, 10] are in spam.)"
      ],
      "metadata": {
        "id": "lxklOgxl2oyd"
      }
    },
    {
      "cell_type": "code",
      "source": [
        "# By changing the value of index 3\n",
        "# index 0  1  2  3  4        \n",
        "spam = [2, 4, 6, 8, 10]\n",
        "spam[2] = 'hello'\n",
        "spam"
      ],
      "metadata": {
        "colab": {
          "base_uri": "https://localhost:8080/"
        },
        "id": "dI1zgZGV35_g",
        "outputId": "65623f1a-1fc6-4348-e3b8-d5a26dba6430"
      },
      "execution_count": null,
      "outputs": [
        {
          "output_type": "execute_result",
          "data": {
            "text/plain": [
              "[2, 4, 'hello', 8, 10]"
            ]
          },
          "metadata": {},
          "execution_count": 44
        }
      ]
    },
    {
      "cell_type": "markdown",
      "source": [
        "# Lets pretend the spam includes the list ['a', 'b','c','d'] for the next three queries."
      ],
      "metadata": {
        "id": "NXjI3TZH2o1G"
      }
    },
    {
      "cell_type": "markdown",
      "source": [
        "### 3. What is the value of spam[int(int(3 * 2) / 11)]?"
      ],
      "metadata": {
        "id": "-kp4O3vs2o4Y"
      }
    },
    {
      "cell_type": "code",
      "source": [
        "spam = ['a', 'b','c','d']\n",
        "spam[int(int('3' * 2) / 11)] # spam[int(33/11)] = spam[3]"
      ],
      "metadata": {
        "colab": {
          "base_uri": "https://localhost:8080/",
          "height": 35
        },
        "id": "y88IXJ5_50mH",
        "outputId": "09f50ef7-c169-449c-c759-e5dd1906a5ec"
      },
      "execution_count": null,
      "outputs": [
        {
          "output_type": "execute_result",
          "data": {
            "text/plain": [
              "'d'"
            ],
            "application/vnd.google.colaboratory.intrinsic+json": {
              "type": "string"
            }
          },
          "metadata": {},
          "execution_count": 45
        }
      ]
    },
    {
      "cell_type": "markdown",
      "source": [
        "### 4. What is the value of spam[-1]?"
      ],
      "metadata": {
        "id": "L5tNyOQZ2o7l"
      }
    },
    {
      "cell_type": "code",
      "source": [
        "#index \n",
        "#+ve     0   1   2   3 \n",
        "#-ve    -4  -3  -2  -1      \n",
        "spam = ['a','b','c','d']\n",
        "spam[-1]"
      ],
      "metadata": {
        "colab": {
          "base_uri": "https://localhost:8080/",
          "height": 35
        },
        "id": "BY0A60RK6FMu",
        "outputId": "6bf268f5-cbf9-4587-d90c-965026b8477e"
      },
      "execution_count": null,
      "outputs": [
        {
          "output_type": "execute_result",
          "data": {
            "text/plain": [
              "'d'"
            ],
            "application/vnd.google.colaboratory.intrinsic+json": {
              "type": "string"
            }
          },
          "metadata": {},
          "execution_count": 46
        }
      ]
    },
    {
      "cell_type": "markdown",
      "source": [
        "### 5. What is the value of spam[:2]?"
      ],
      "metadata": {
        "id": "oDsn8MzV2o-f"
      }
    },
    {
      "cell_type": "code",
      "source": [
        "# spam[0:2] and spam[:2] results same. spam[start: end], if start index is blank that means it will start from 0\n",
        "spam = ['a','b','c','d'] \n",
        "print(spam[:2])\n",
        "print(spam[0:2])"
      ],
      "metadata": {
        "colab": {
          "base_uri": "https://localhost:8080/"
        },
        "id": "JiqJeguU4k53",
        "outputId": "bbc53719-c7ac-4297-8b87-cd0e3b2b7bad"
      },
      "execution_count": null,
      "outputs": [
        {
          "output_type": "stream",
          "name": "stdout",
          "text": [
            "['a', 'b']\n",
            "['a', 'b']\n"
          ]
        }
      ]
    },
    {
      "cell_type": "markdown",
      "source": [
        "# Let's pretend bacon has the list [3.14, 'cat' 11, 'cat' True] for the next three questions."
      ],
      "metadata": {
        "id": "XJ_mGv6N2pBg"
      }
    },
    {
      "cell_type": "markdown",
      "source": [
        "### 6. What is the value of bacon.index('cat')?"
      ],
      "metadata": {
        "id": "6X8nPRAc2pEg"
      }
    },
    {
      "cell_type": "code",
      "source": [
        "bacon = [3.14, 'cat', 11, 'cat', True]\n",
        "# index   0      1     2     3     4\n",
        "bacon.index('cat')  # It returns the index of first occurrence of 'cat'"
      ],
      "metadata": {
        "colab": {
          "base_uri": "https://localhost:8080/"
        },
        "id": "Lo8LxYPr6CXJ",
        "outputId": "ac473188-102e-44bd-c5d6-1063b6656c99"
      },
      "execution_count": null,
      "outputs": [
        {
          "output_type": "execute_result",
          "data": {
            "text/plain": [
              "1"
            ]
          },
          "metadata": {},
          "execution_count": 48
        }
      ]
    },
    {
      "cell_type": "markdown",
      "source": [
        "### 7. How does bacon.append(99) change the look of the list value in bacon?"
      ],
      "metadata": {
        "id": "5Tf1qMH86dqn"
      }
    },
    {
      "cell_type": "code",
      "source": [
        "bacon = [3.14, 'cat', 11, 'cat', True]\n",
        "bacon.append(99)  # Append adds the item at the end of the list\n",
        "bacon"
      ],
      "metadata": {
        "colab": {
          "base_uri": "https://localhost:8080/"
        },
        "id": "c3XhZ-O66kqL",
        "outputId": "4fdc2135-220b-4a10-d1ac-03b1a476374c"
      },
      "execution_count": null,
      "outputs": [
        {
          "output_type": "execute_result",
          "data": {
            "text/plain": [
              "[3.14, 'cat', 11, 'cat', True, 99]"
            ]
          },
          "metadata": {},
          "execution_count": 49
        }
      ]
    },
    {
      "cell_type": "markdown",
      "source": [
        "### 8. How does bacon.remove('cat') change the look of the list in bacon?"
      ],
      "metadata": {
        "id": "vdEb2I-K6dnP"
      }
    },
    {
      "cell_type": "code",
      "source": [
        "bacon = [3.14, 'cat', 11, 'cat', True]\n",
        "bacon.remove('cat') # remove first occurrence of item from the list\n",
        "bacon"
      ],
      "metadata": {
        "colab": {
          "base_uri": "https://localhost:8080/"
        },
        "id": "ykIArGFl68eM",
        "outputId": "9fd821d9-2168-4ba2-d3d3-17964e6a2c19"
      },
      "execution_count": null,
      "outputs": [
        {
          "output_type": "execute_result",
          "data": {
            "text/plain": [
              "[3.14, 11, 'cat', True]"
            ]
          },
          "metadata": {},
          "execution_count": 50
        }
      ]
    },
    {
      "cell_type": "markdown",
      "source": [
        "### 9. What are the list concatenation and list replication operators?\n",
        "\n",
        "##### ( + ) is list concatenation operator\n",
        "##### ( * ) is list replication operator"
      ],
      "metadata": {
        "id": "Jgx6PczG6dk4"
      }
    },
    {
      "cell_type": "code",
      "source": [
        "# List concatenation\n",
        "l1 = [1,2]\n",
        "l2 = [3,4]\n",
        "print(\"List concatenation\")\n",
        "print(l1+l2)\n",
        "print(\"---------\")\n",
        "# List replication\n",
        "l3 = [5,6]\n",
        "print(\"List replication\")\n",
        "print(l1*3)\n",
        "     "
      ],
      "metadata": {
        "colab": {
          "base_uri": "https://localhost:8080/"
        },
        "id": "kmqxGY4e7dD4",
        "outputId": "c2778cc8-416d-479f-eeca-2f55dafddae9"
      },
      "execution_count": null,
      "outputs": [
        {
          "output_type": "stream",
          "name": "stdout",
          "text": [
            "List concatenation\n",
            "[1, 2, 3, 4]\n",
            "---------\n",
            "List replication\n",
            "[1, 2, 1, 2, 1, 2]\n"
          ]
        }
      ]
    },
    {
      "cell_type": "markdown",
      "source": [
        "### 10. What is difference between the list methods append() and insert()?\n",
        "\n",
        "##### append() Appends object at the end of the list\n",
        "##### insert() Insert object before index"
      ],
      "metadata": {
        "id": "ekA_PoxM6diT"
      }
    },
    {
      "cell_type": "code",
      "source": [
        "# Eg\n",
        "\n",
        "print(\"Using append()\")\n",
        "bacon = [3.14, 'cat', 11, 'cat', True]\n",
        "bacon.append(99) # append adds the item at the end of the list\n",
        "print(bacon)\n",
        "\n",
        "print(\"------\")\n",
        "print(\"Using insert()\")\n",
        "bacon = [3.14, 'cat', 11, 'cat', True]\n",
        "bacon.insert(1,'dog') # inserts 'dog' to the 2nd index\n",
        "print(bacon)"
      ],
      "metadata": {
        "colab": {
          "base_uri": "https://localhost:8080/"
        },
        "id": "Eru7FqDS83qX",
        "outputId": "ef76d138-d957-4993-cb44-c8d9af7596ff"
      },
      "execution_count": null,
      "outputs": [
        {
          "output_type": "stream",
          "name": "stdout",
          "text": [
            "Using append()\n",
            "[3.14, 'cat', 11, 'cat', True, 99]\n",
            "------\n",
            "Using insert()\n",
            "[3.14, 'dog', 'cat', 11, 'cat', True]\n"
          ]
        }
      ]
    },
    {
      "cell_type": "markdown",
      "source": [
        "### 11. What are the two methods for removing items from a list?\n",
        "\n"
      ],
      "metadata": {
        "id": "Elo8XRMC8m2-"
      }
    },
    {
      "cell_type": "code",
      "source": [
        "# The two methods are:\n",
        "\n",
        "print(\"Remove : The 'remove()' method removes the first matching element from the list.\")\n",
        "bacon = [3.14, 'cat', 11, 'cat', True]\n",
        "bacon.remove('cat')\n",
        "print(bacon)\n",
        "\n",
        "print(\"------\")\n",
        "print(\"Pop : The pop() method returns the item present at the given index. This item is also removed from the list.\")\n",
        "bacon = [3.14, 'cat', 11, 'cat', True]\n",
        "bacon.pop()\n",
        "print(bacon)"
      ],
      "metadata": {
        "colab": {
          "base_uri": "https://localhost:8080/"
        },
        "id": "IL-y8QU095vf",
        "outputId": "0561fd8a-1716-4f0a-da26-fcef58ffab89"
      },
      "execution_count": null,
      "outputs": [
        {
          "output_type": "stream",
          "name": "stdout",
          "text": [
            "Remove : The 'remove()' method removes the first matching element from the list.\n",
            "[3.14, 11, 'cat', True]\n",
            "------\n",
            "Pop : The pop() method returns the item present at the given index. This item is also removed from the list.\n",
            "[3.14, 'cat', 11, 'cat']\n"
          ]
        }
      ]
    },
    {
      "cell_type": "markdown",
      "source": [
        "### 12. Describe how list values and string values are identical.\n",
        "\n",
        "##### 1. Both lists and strings can be passed to len()\n",
        "##### 2. Have indexes and slices\n",
        "##### 3. Can be used in for loops\n",
        "##### 4. Can be concatenated or replicated\n",
        "##### 5. Can be used with the in and not in operators"
      ],
      "metadata": {
        "id": "nuBAcS9J8nxm"
      }
    },
    {
      "cell_type": "markdown",
      "source": [
        "### 13. What's the difference between tuples and lists?\n",
        "\n",
        "##### Lists : are mutable - they can have values added, removed, or changed. lists use the square brackets, [ and ]\n",
        "##### Tuples : are immutable; they cannot be changed at all. Tuples are written using parentheses, ( and )"
      ],
      "metadata": {
        "id": "uagJ-iN_8nie"
      }
    },
    {
      "cell_type": "markdown",
      "source": [
        "### 14. How do you type a tuple value that only contains the integer 42?"
      ],
      "metadata": {
        "id": "nQ5loY2O_z_-"
      }
    },
    {
      "cell_type": "code",
      "source": [
        "tuple = (42,)\n",
        "tuple"
      ],
      "metadata": {
        "colab": {
          "base_uri": "https://localhost:8080/"
        },
        "id": "4fLZ0EzAAAxk",
        "outputId": "1bdef5ea-ab80-42fd-dfc5-ef744af15801"
      },
      "execution_count": null,
      "outputs": [
        {
          "output_type": "execute_result",
          "data": {
            "text/plain": [
              "(42,)"
            ]
          },
          "metadata": {},
          "execution_count": 54
        }
      ]
    },
    {
      "cell_type": "markdown",
      "source": [
        "### 15. How do you get a list value's tuple form? How do you get a tuple value's list form?"
      ],
      "metadata": {
        "id": "2_iiy0ZQ_0Qi"
      }
    },
    {
      "cell_type": "code",
      "source": [
        "list_names = [3.14, 'cat', 11, 'cat', True]\n",
        "tuple_names = list(list_names)\n",
        "print(tuple_names)\n",
        "print(type(tuple_names))\n"
      ],
      "metadata": {
        "colab": {
          "base_uri": "https://localhost:8080/"
        },
        "id": "_NAwopjz0vxV",
        "outputId": "cdbcd68b-dfe0-4d3d-f62c-7b64c0949613"
      },
      "execution_count": 58,
      "outputs": [
        {
          "output_type": "stream",
          "name": "stdout",
          "text": [
            "[3.14, 'cat', 11, 'cat', True]\n",
            "<class 'list'>\n"
          ]
        }
      ]
    },
    {
      "cell_type": "code",
      "source": [
        "print(\"A tuple value's list form\")\n",
        "tuple_names = (3.14, 'cat', 11, 'cat', True)\n",
        "list_names = list(tuple_names)\n",
        "print(list_names)\n",
        "print(type(list_names))"
      ],
      "metadata": {
        "id": "KaVBv3ADzVOw"
      },
      "execution_count": null,
      "outputs": []
    },
    {
      "cell_type": "markdown",
      "source": [
        "### 16. Variables that \"contain\" list values are not necessarily lists themselves. Instead, what do they contain?\n",
        "\n",
        "##### They contain references to list values"
      ],
      "metadata": {
        "id": "5wYmWUsfyg2I"
      }
    },
    {
      "cell_type": "markdown",
      "source": [
        "### 17. How do you distinguish between copy.copy() and copy.deepcopy()?\n",
        "\n",
        "##### The copy.copy() function will do a shallow copy of a list,\n",
        "##### The copy.deepcopy() function will do a deep copy of a list. only copy.deepcopy() will duplicate any lists inside the list."
      ],
      "metadata": {
        "id": "Pe8kZ-Q9ygnJ"
      }
    }
  ]
}